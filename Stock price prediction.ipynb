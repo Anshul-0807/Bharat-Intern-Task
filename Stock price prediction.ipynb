{
 "cells": [
  {
   "cell_type": "markdown",
   "id": "0b5b8252",
   "metadata": {},
   "source": [
    "# Stock price prediction"
   ]
  },
  {
   "cell_type": "code",
   "execution_count": 1,
   "id": "88156f13",
   "metadata": {},
   "outputs": [
    {
     "name": "stdout",
     "output_type": "stream",
     "text": [
      "Requirement already satisfied: tensorflow in c:\\users\\91929\\anaconda3\\lib\\site-packages (2.14.0)\n",
      "Requirement already satisfied: tensorflow-intel==2.14.0 in c:\\users\\91929\\anaconda3\\lib\\site-packages (from tensorflow) (2.14.0)\n",
      "Requirement already satisfied: absl-py>=1.0.0 in c:\\users\\91929\\anaconda3\\lib\\site-packages (from tensorflow-intel==2.14.0->tensorflow) (2.0.0)\n",
      "Requirement already satisfied: astunparse>=1.6.0 in c:\\users\\91929\\anaconda3\\lib\\site-packages (from tensorflow-intel==2.14.0->tensorflow) (1.6.3)\n",
      "Requirement already satisfied: flatbuffers>=23.5.26 in c:\\users\\91929\\anaconda3\\lib\\site-packages (from tensorflow-intel==2.14.0->tensorflow) (23.5.26)\n",
      "Requirement already satisfied: gast!=0.5.0,!=0.5.1,!=0.5.2,>=0.2.1 in c:\\users\\91929\\anaconda3\\lib\\site-packages (from tensorflow-intel==2.14.0->tensorflow) (0.5.4)\n",
      "Requirement already satisfied: google-pasta>=0.1.1 in c:\\users\\91929\\anaconda3\\lib\\site-packages (from tensorflow-intel==2.14.0->tensorflow) (0.2.0)\n",
      "Requirement already satisfied: h5py>=2.9.0 in c:\\users\\91929\\anaconda3\\lib\\site-packages (from tensorflow-intel==2.14.0->tensorflow) (3.9.0)\n",
      "Requirement already satisfied: libclang>=13.0.0 in c:\\users\\91929\\anaconda3\\lib\\site-packages (from tensorflow-intel==2.14.0->tensorflow) (16.0.6)\n",
      "Requirement already satisfied: ml-dtypes==0.2.0 in c:\\users\\91929\\anaconda3\\lib\\site-packages (from tensorflow-intel==2.14.0->tensorflow) (0.2.0)\n",
      "Requirement already satisfied: numpy>=1.23.5 in c:\\users\\91929\\anaconda3\\lib\\site-packages (from tensorflow-intel==2.14.0->tensorflow) (1.24.3)\n",
      "Requirement already satisfied: opt-einsum>=2.3.2 in c:\\users\\91929\\anaconda3\\lib\\site-packages (from tensorflow-intel==2.14.0->tensorflow) (3.3.0)\n",
      "Requirement already satisfied: packaging in c:\\users\\91929\\anaconda3\\lib\\site-packages (from tensorflow-intel==2.14.0->tensorflow) (23.1)\n",
      "Requirement already satisfied: protobuf!=4.21.0,!=4.21.1,!=4.21.2,!=4.21.3,!=4.21.4,!=4.21.5,<5.0.0dev,>=3.20.3 in c:\\users\\91929\\anaconda3\\lib\\site-packages (from tensorflow-intel==2.14.0->tensorflow) (4.24.3)\n",
      "Requirement already satisfied: setuptools in c:\\users\\91929\\anaconda3\\lib\\site-packages (from tensorflow-intel==2.14.0->tensorflow) (68.0.0)\n",
      "Requirement already satisfied: six>=1.12.0 in c:\\users\\91929\\anaconda3\\lib\\site-packages (from tensorflow-intel==2.14.0->tensorflow) (1.16.0)\n",
      "Requirement already satisfied: termcolor>=1.1.0 in c:\\users\\91929\\anaconda3\\lib\\site-packages (from tensorflow-intel==2.14.0->tensorflow) (2.3.0)\n",
      "Requirement already satisfied: typing-extensions>=3.6.6 in c:\\users\\91929\\anaconda3\\lib\\site-packages (from tensorflow-intel==2.14.0->tensorflow) (4.7.1)\n",
      "Requirement already satisfied: wrapt<1.15,>=1.11.0 in c:\\users\\91929\\anaconda3\\lib\\site-packages (from tensorflow-intel==2.14.0->tensorflow) (1.14.1)\n",
      "Requirement already satisfied: tensorflow-io-gcs-filesystem>=0.23.1 in c:\\users\\91929\\anaconda3\\lib\\site-packages (from tensorflow-intel==2.14.0->tensorflow) (0.31.0)\n",
      "Requirement already satisfied: grpcio<2.0,>=1.24.3 in c:\\users\\91929\\anaconda3\\lib\\site-packages (from tensorflow-intel==2.14.0->tensorflow) (1.59.0)\n",
      "Requirement already satisfied: tensorboard<2.15,>=2.14 in c:\\users\\91929\\anaconda3\\lib\\site-packages (from tensorflow-intel==2.14.0->tensorflow) (2.14.1)\n",
      "Requirement already satisfied: tensorflow-estimator<2.15,>=2.14.0 in c:\\users\\91929\\anaconda3\\lib\\site-packages (from tensorflow-intel==2.14.0->tensorflow) (2.14.0)\n",
      "Requirement already satisfied: keras<2.15,>=2.14.0 in c:\\users\\91929\\anaconda3\\lib\\site-packages (from tensorflow-intel==2.14.0->tensorflow) (2.14.0)\n",
      "Requirement already satisfied: wheel<1.0,>=0.23.0 in c:\\users\\91929\\anaconda3\\lib\\site-packages (from astunparse>=1.6.0->tensorflow-intel==2.14.0->tensorflow) (0.38.4)\n",
      "Requirement already satisfied: google-auth<3,>=1.6.3 in c:\\users\\91929\\anaconda3\\lib\\site-packages (from tensorboard<2.15,>=2.14->tensorflow-intel==2.14.0->tensorflow) (2.23.2)\n",
      "Requirement already satisfied: google-auth-oauthlib<1.1,>=0.5 in c:\\users\\91929\\anaconda3\\lib\\site-packages (from tensorboard<2.15,>=2.14->tensorflow-intel==2.14.0->tensorflow) (1.0.0)\n",
      "Requirement already satisfied: markdown>=2.6.8 in c:\\users\\91929\\anaconda3\\lib\\site-packages (from tensorboard<2.15,>=2.14->tensorflow-intel==2.14.0->tensorflow) (3.4.1)\n",
      "Requirement already satisfied: requests<3,>=2.21.0 in c:\\users\\91929\\anaconda3\\lib\\site-packages (from tensorboard<2.15,>=2.14->tensorflow-intel==2.14.0->tensorflow) (2.31.0)\n",
      "Requirement already satisfied: tensorboard-data-server<0.8.0,>=0.7.0 in c:\\users\\91929\\anaconda3\\lib\\site-packages (from tensorboard<2.15,>=2.14->tensorflow-intel==2.14.0->tensorflow) (0.7.1)\n",
      "Requirement already satisfied: werkzeug>=1.0.1 in c:\\users\\91929\\anaconda3\\lib\\site-packages (from tensorboard<2.15,>=2.14->tensorflow-intel==2.14.0->tensorflow) (2.2.3)\n",
      "Requirement already satisfied: cachetools<6.0,>=2.0.0 in c:\\users\\91929\\anaconda3\\lib\\site-packages (from google-auth<3,>=1.6.3->tensorboard<2.15,>=2.14->tensorflow-intel==2.14.0->tensorflow) (5.3.1)\n",
      "Requirement already satisfied: pyasn1-modules>=0.2.1 in c:\\users\\91929\\anaconda3\\lib\\site-packages (from google-auth<3,>=1.6.3->tensorboard<2.15,>=2.14->tensorflow-intel==2.14.0->tensorflow) (0.2.8)\n",
      "Requirement already satisfied: rsa<5,>=3.1.4 in c:\\users\\91929\\anaconda3\\lib\\site-packages (from google-auth<3,>=1.6.3->tensorboard<2.15,>=2.14->tensorflow-intel==2.14.0->tensorflow) (4.9)\n",
      "Requirement already satisfied: requests-oauthlib>=0.7.0 in c:\\users\\91929\\anaconda3\\lib\\site-packages (from google-auth-oauthlib<1.1,>=0.5->tensorboard<2.15,>=2.14->tensorflow-intel==2.14.0->tensorflow) (1.3.1)\n",
      "Requirement already satisfied: importlib-metadata>=4.4 in c:\\users\\91929\\anaconda3\\lib\\site-packages (from markdown>=2.6.8->tensorboard<2.15,>=2.14->tensorflow-intel==2.14.0->tensorflow) (6.0.0)\n",
      "Requirement already satisfied: charset-normalizer<4,>=2 in c:\\users\\91929\\anaconda3\\lib\\site-packages (from requests<3,>=2.21.0->tensorboard<2.15,>=2.14->tensorflow-intel==2.14.0->tensorflow) (2.0.4)\n",
      "Requirement already satisfied: idna<4,>=2.5 in c:\\users\\91929\\anaconda3\\lib\\site-packages (from requests<3,>=2.21.0->tensorboard<2.15,>=2.14->tensorflow-intel==2.14.0->tensorflow) (3.4)\n",
      "Requirement already satisfied: urllib3<3,>=1.21.1 in c:\\users\\91929\\anaconda3\\lib\\site-packages (from requests<3,>=2.21.0->tensorboard<2.15,>=2.14->tensorflow-intel==2.14.0->tensorflow) (1.26.16)\n",
      "Requirement already satisfied: certifi>=2017.4.17 in c:\\users\\91929\\anaconda3\\lib\\site-packages (from requests<3,>=2.21.0->tensorboard<2.15,>=2.14->tensorflow-intel==2.14.0->tensorflow) (2023.7.22)\n",
      "Requirement already satisfied: MarkupSafe>=2.1.1 in c:\\users\\91929\\anaconda3\\lib\\site-packages (from werkzeug>=1.0.1->tensorboard<2.15,>=2.14->tensorflow-intel==2.14.0->tensorflow) (2.1.1)\n",
      "Requirement already satisfied: zipp>=0.5 in c:\\users\\91929\\anaconda3\\lib\\site-packages (from importlib-metadata>=4.4->markdown>=2.6.8->tensorboard<2.15,>=2.14->tensorflow-intel==2.14.0->tensorflow) (3.11.0)\n",
      "Requirement already satisfied: pyasn1<0.5.0,>=0.4.6 in c:\\users\\91929\\anaconda3\\lib\\site-packages (from pyasn1-modules>=0.2.1->google-auth<3,>=1.6.3->tensorboard<2.15,>=2.14->tensorflow-intel==2.14.0->tensorflow) (0.4.8)\n",
      "Requirement already satisfied: oauthlib>=3.0.0 in c:\\users\\91929\\anaconda3\\lib\\site-packages (from requests-oauthlib>=0.7.0->google-auth-oauthlib<1.1,>=0.5->tensorboard<2.15,>=2.14->tensorflow-intel==2.14.0->tensorflow) (3.2.2)\n",
      "Note: you may need to restart the kernel to use updated packages.\n"
     ]
    },
    {
     "name": "stderr",
     "output_type": "stream",
     "text": [
      "WARNING: Ignoring invalid distribution -pencv-python (c:\\users\\91929\\anaconda3\\lib\\site-packages)\n",
      "WARNING: Ignoring invalid distribution -pencv-python (c:\\users\\91929\\anaconda3\\lib\\site-packages)\n"
     ]
    }
   ],
   "source": [
    "pip install tensorflow"
   ]
  },
  {
   "cell_type": "code",
   "execution_count": 2,
   "id": "afade989",
   "metadata": {},
   "outputs": [
    {
     "name": "stdout",
     "output_type": "stream",
     "text": [
      "Requirement already satisfied: keras in c:\\users\\91929\\anaconda3\\lib\\site-packages (2.14.0)Note: you may need to restart the kernel to use updated packages.\n",
      "\n"
     ]
    },
    {
     "name": "stderr",
     "output_type": "stream",
     "text": [
      "WARNING: Ignoring invalid distribution -pencv-python (c:\\users\\91929\\anaconda3\\lib\\site-packages)\n",
      "WARNING: Ignoring invalid distribution -pencv-python (c:\\users\\91929\\anaconda3\\lib\\site-packages)\n"
     ]
    }
   ],
   "source": [
    "pip install keras"
   ]
  },
  {
   "cell_type": "code",
   "execution_count": 3,
   "id": "be86de3a",
   "metadata": {},
   "outputs": [],
   "source": [
    "import numpy as np\n",
    "import pandas as pd\n",
    "from sklearn.preprocessing import MinMaxScaler\n",
    "from keras.models import Sequential"
   ]
  },
  {
   "cell_type": "code",
   "execution_count": 4,
   "id": "291e69cc",
   "metadata": {},
   "outputs": [],
   "source": [
    "from keras.layers import LSTM, Dense\n",
    "import matplotlib.pyplot as plt"
   ]
  },
  {
   "cell_type": "code",
   "execution_count": 5,
   "id": "96924a9c",
   "metadata": {},
   "outputs": [],
   "source": [
    "# Load the data\n",
    "data = pd.read_csv('Amazon.csv')\n",
    "data = data.sort_values('Date')  "
   ]
  },
  {
   "cell_type": "code",
   "execution_count": 6,
   "id": "e63a3f7e",
   "metadata": {},
   "outputs": [
    {
     "data": {
      "text/html": [
       "<div>\n",
       "<style scoped>\n",
       "    .dataframe tbody tr th:only-of-type {\n",
       "        vertical-align: middle;\n",
       "    }\n",
       "\n",
       "    .dataframe tbody tr th {\n",
       "        vertical-align: top;\n",
       "    }\n",
       "\n",
       "    .dataframe thead th {\n",
       "        text-align: right;\n",
       "    }\n",
       "</style>\n",
       "<table border=\"1\" class=\"dataframe\">\n",
       "  <thead>\n",
       "    <tr style=\"text-align: right;\">\n",
       "      <th></th>\n",
       "      <th>Date</th>\n",
       "      <th>High</th>\n",
       "      <th>Low</th>\n",
       "      <th>Open</th>\n",
       "      <th>Close</th>\n",
       "      <th>Volume</th>\n",
       "      <th>Adj Close</th>\n",
       "    </tr>\n",
       "  </thead>\n",
       "  <tbody>\n",
       "    <tr>\n",
       "      <th>0</th>\n",
       "      <td>1997-12-31</td>\n",
       "      <td>5.041667</td>\n",
       "      <td>4.843750</td>\n",
       "      <td>4.875000</td>\n",
       "      <td>5.020833</td>\n",
       "      <td>4446000.0</td>\n",
       "      <td>5.020833</td>\n",
       "    </tr>\n",
       "    <tr>\n",
       "      <th>1</th>\n",
       "      <td>1998-01-02</td>\n",
       "      <td>5.000000</td>\n",
       "      <td>4.796875</td>\n",
       "      <td>5.000000</td>\n",
       "      <td>4.958333</td>\n",
       "      <td>1660800.0</td>\n",
       "      <td>4.958333</td>\n",
       "    </tr>\n",
       "    <tr>\n",
       "      <th>2</th>\n",
       "      <td>1998-01-05</td>\n",
       "      <td>4.937500</td>\n",
       "      <td>4.708333</td>\n",
       "      <td>4.885417</td>\n",
       "      <td>4.750000</td>\n",
       "      <td>3590400.0</td>\n",
       "      <td>4.750000</td>\n",
       "    </tr>\n",
       "    <tr>\n",
       "      <th>3</th>\n",
       "      <td>1998-01-06</td>\n",
       "      <td>4.875000</td>\n",
       "      <td>4.666667</td>\n",
       "      <td>4.697917</td>\n",
       "      <td>4.838542</td>\n",
       "      <td>4174800.0</td>\n",
       "      <td>4.838542</td>\n",
       "    </tr>\n",
       "    <tr>\n",
       "      <th>4</th>\n",
       "      <td>1998-01-07</td>\n",
       "      <td>4.833333</td>\n",
       "      <td>4.692708</td>\n",
       "      <td>4.833333</td>\n",
       "      <td>4.781250</td>\n",
       "      <td>2725200.0</td>\n",
       "      <td>4.781250</td>\n",
       "    </tr>\n",
       "    <tr>\n",
       "      <th>...</th>\n",
       "      <td>...</td>\n",
       "      <td>...</td>\n",
       "      <td>...</td>\n",
       "      <td>...</td>\n",
       "      <td>...</td>\n",
       "      <td>...</td>\n",
       "      <td>...</td>\n",
       "    </tr>\n",
       "    <tr>\n",
       "      <th>6094</th>\n",
       "      <td>2022-03-21</td>\n",
       "      <td>3261.679932</td>\n",
       "      <td>3191.060059</td>\n",
       "      <td>3222.419922</td>\n",
       "      <td>3229.830078</td>\n",
       "      <td>3326900.0</td>\n",
       "      <td>3229.830078</td>\n",
       "    </tr>\n",
       "    <tr>\n",
       "      <th>6095</th>\n",
       "      <td>2022-03-22</td>\n",
       "      <td>3323.340088</td>\n",
       "      <td>3233.979980</td>\n",
       "      <td>3236.110107</td>\n",
       "      <td>3297.780029</td>\n",
       "      <td>3204300.0</td>\n",
       "      <td>3297.780029</td>\n",
       "    </tr>\n",
       "    <tr>\n",
       "      <th>6096</th>\n",
       "      <td>2022-03-23</td>\n",
       "      <td>3327.399902</td>\n",
       "      <td>3253.739990</td>\n",
       "      <td>3274.100098</td>\n",
       "      <td>3268.159912</td>\n",
       "      <td>2790600.0</td>\n",
       "      <td>3268.159912</td>\n",
       "    </tr>\n",
       "    <tr>\n",
       "      <th>6097</th>\n",
       "      <td>2022-03-24</td>\n",
       "      <td>3282.370117</td>\n",
       "      <td>3201.000000</td>\n",
       "      <td>3274.989990</td>\n",
       "      <td>3272.989990</td>\n",
       "      <td>2834900.0</td>\n",
       "      <td>3272.989990</td>\n",
       "    </tr>\n",
       "    <tr>\n",
       "      <th>6098</th>\n",
       "      <td>2022-03-25</td>\n",
       "      <td>3307.370117</td>\n",
       "      <td>3247.489990</td>\n",
       "      <td>3280.000000</td>\n",
       "      <td>3282.010010</td>\n",
       "      <td>1584383.0</td>\n",
       "      <td>3282.010010</td>\n",
       "    </tr>\n",
       "  </tbody>\n",
       "</table>\n",
       "<p>6099 rows × 7 columns</p>\n",
       "</div>"
      ],
      "text/plain": [
       "            Date         High          Low         Open        Close  \\\n",
       "0     1997-12-31     5.041667     4.843750     4.875000     5.020833   \n",
       "1     1998-01-02     5.000000     4.796875     5.000000     4.958333   \n",
       "2     1998-01-05     4.937500     4.708333     4.885417     4.750000   \n",
       "3     1998-01-06     4.875000     4.666667     4.697917     4.838542   \n",
       "4     1998-01-07     4.833333     4.692708     4.833333     4.781250   \n",
       "...          ...          ...          ...          ...          ...   \n",
       "6094  2022-03-21  3261.679932  3191.060059  3222.419922  3229.830078   \n",
       "6095  2022-03-22  3323.340088  3233.979980  3236.110107  3297.780029   \n",
       "6096  2022-03-23  3327.399902  3253.739990  3274.100098  3268.159912   \n",
       "6097  2022-03-24  3282.370117  3201.000000  3274.989990  3272.989990   \n",
       "6098  2022-03-25  3307.370117  3247.489990  3280.000000  3282.010010   \n",
       "\n",
       "         Volume    Adj Close  \n",
       "0     4446000.0     5.020833  \n",
       "1     1660800.0     4.958333  \n",
       "2     3590400.0     4.750000  \n",
       "3     4174800.0     4.838542  \n",
       "4     2725200.0     4.781250  \n",
       "...         ...          ...  \n",
       "6094  3326900.0  3229.830078  \n",
       "6095  3204300.0  3297.780029  \n",
       "6096  2790600.0  3268.159912  \n",
       "6097  2834900.0  3272.989990  \n",
       "6098  1584383.0  3282.010010  \n",
       "\n",
       "[6099 rows x 7 columns]"
      ]
     },
     "execution_count": 6,
     "metadata": {},
     "output_type": "execute_result"
    }
   ],
   "source": [
    "data"
   ]
  },
  {
   "cell_type": "code",
   "execution_count": 7,
   "id": "6aa9dc80",
   "metadata": {},
   "outputs": [],
   "source": [
    "data = data[['Close']]"
   ]
  },
  {
   "cell_type": "code",
   "execution_count": 8,
   "id": "09c24322",
   "metadata": {},
   "outputs": [],
   "source": [
    "# Normalize the dataset\n",
    "scaler = MinMaxScaler(feature_range=(0, 1))\n",
    "data_scaled = scaler.fit_transform(data)"
   ]
  },
  {
   "cell_type": "code",
   "execution_count": 9,
   "id": "822162fc",
   "metadata": {},
   "outputs": [],
   "source": [
    "X_train, y_train = [], []"
   ]
  },
  {
   "cell_type": "code",
   "execution_count": 10,
   "id": "1b1111ee",
   "metadata": {},
   "outputs": [],
   "source": [
    "for i in range(60, len(data_scaled)):\n",
    "    X_train.append(data_scaled[i-60:i, 0])\n",
    "    y_train.append(data_scaled[i, 0])"
   ]
  },
  {
   "cell_type": "code",
   "execution_count": 11,
   "id": "27f3bda4",
   "metadata": {},
   "outputs": [],
   "source": [
    "X_train, y_train = np.array(X_train), np.array(y_train)"
   ]
  },
  {
   "cell_type": "code",
   "execution_count": 12,
   "id": "7724ec7c",
   "metadata": {},
   "outputs": [],
   "source": [
    "X_train = np.reshape(X_train, (X_train.shape[0], X_train.shape[1], 1))"
   ]
  },
  {
   "cell_type": "code",
   "execution_count": 13,
   "id": "ab318258",
   "metadata": {},
   "outputs": [],
   "source": [
    "# Build the LSTM model\n",
    "model = Sequential()\n",
    "model.add(LSTM(units=50, return_sequences=True, input_shape=(X_train.shape[1], 1)))\n",
    "model.add(LSTM(units=50, return_sequences=True))\n",
    "model.add(LSTM(units=50))\n",
    "model.add(Dense(units=1))\n",
    "model.compile(optimizer='adam', loss='mean_squared_error')"
   ]
  },
  {
   "cell_type": "code",
   "execution_count": 14,
   "id": "d06d9687",
   "metadata": {},
   "outputs": [
    {
     "name": "stdout",
     "output_type": "stream",
     "text": [
      "Epoch 1/25\n",
      "189/189 [==============================] - 17s 57ms/step - loss: 0.0025\n",
      "Epoch 2/25\n",
      "189/189 [==============================] - 12s 61ms/step - loss: 2.6837e-04\n",
      "Epoch 3/25\n",
      "189/189 [==============================] - 12s 65ms/step - loss: 2.3157e-04\n",
      "Epoch 4/25\n",
      "189/189 [==============================] - 12s 65ms/step - loss: 2.3913e-04\n",
      "Epoch 5/25\n",
      "189/189 [==============================] - 12s 62ms/step - loss: 2.6687e-04\n",
      "Epoch 6/25\n",
      "189/189 [==============================] - 13s 68ms/step - loss: 2.2836e-04\n",
      "Epoch 7/25\n",
      "189/189 [==============================] - 12s 65ms/step - loss: 2.1522e-04\n",
      "Epoch 8/25\n",
      "189/189 [==============================] - 16s 86ms/step - loss: 1.8600e-04\n",
      "Epoch 9/25\n",
      "189/189 [==============================] - 18s 96ms/step - loss: 1.5627e-04\n",
      "Epoch 10/25\n",
      "189/189 [==============================] - 26s 140ms/step - loss: 1.7955e-04\n",
      "Epoch 11/25\n",
      "189/189 [==============================] - 25s 131ms/step - loss: 1.8423e-04\n",
      "Epoch 12/25\n",
      "189/189 [==============================] - 26s 136ms/step - loss: 1.3318e-04\n",
      "Epoch 13/25\n",
      "189/189 [==============================] - 26s 139ms/step - loss: 1.2283e-04\n",
      "Epoch 14/25\n",
      "189/189 [==============================] - 26s 135ms/step - loss: 1.5524e-04\n",
      "Epoch 15/25\n",
      "189/189 [==============================] - 27s 142ms/step - loss: 1.2047e-04\n",
      "Epoch 16/25\n",
      "189/189 [==============================] - 26s 138ms/step - loss: 1.0473e-04\n",
      "Epoch 17/25\n",
      "189/189 [==============================] - 27s 142ms/step - loss: 1.0355e-04\n",
      "Epoch 18/25\n",
      "189/189 [==============================] - 27s 143ms/step - loss: 9.1697e-05\n",
      "Epoch 19/25\n",
      "189/189 [==============================] - 26s 140ms/step - loss: 9.2391e-05\n",
      "Epoch 20/25\n",
      "189/189 [==============================] - 26s 135ms/step - loss: 7.5987e-05\n",
      "Epoch 21/25\n",
      "189/189 [==============================] - 26s 138ms/step - loss: 8.5668e-05\n",
      "Epoch 22/25\n",
      "189/189 [==============================] - 26s 138ms/step - loss: 7.2285e-05\n",
      "Epoch 23/25\n",
      "189/189 [==============================] - 26s 137ms/step - loss: 8.3263e-05\n",
      "Epoch 24/25\n",
      "189/189 [==============================] - 28s 146ms/step - loss: 7.3978e-05\n",
      "Epoch 25/25\n",
      "189/189 [==============================] - 26s 136ms/step - loss: 6.9392e-05\n"
     ]
    },
    {
     "data": {
      "text/plain": [
       "<keras.src.callbacks.History at 0x1cd5732deb0>"
      ]
     },
     "execution_count": 14,
     "metadata": {},
     "output_type": "execute_result"
    }
   ],
   "source": [
    "# Train the model\n",
    "model.fit(X_train, y_train, epochs=25, batch_size=32)"
   ]
  },
  {
   "cell_type": "code",
   "execution_count": 15,
   "id": "233c28fd",
   "metadata": {},
   "outputs": [],
   "source": [
    "# Model testing\n",
    "test_data = pd.read_csv('Amazon.csv')  # Load your test dataset\n",
    "test_data = test_data[['Close']]\n",
    "scaled_test_data = scaler.transform(test_data)"
   ]
  },
  {
   "cell_type": "code",
   "execution_count": 16,
   "id": "e9e535e5",
   "metadata": {},
   "outputs": [],
   "source": [
    "X_test = []\n",
    "\n",
    "for i in range(60, len(scaled_test_data)):\n",
    "    X_test.append(scaled_test_data[i-60:i, 0])\n",
    "\n",
    "X_test = np.array(X_test)\n",
    "X_test = np.reshape(X_test, (X_test.shape[0], X_test.shape[1], 1))"
   ]
  },
  {
   "cell_type": "code",
   "execution_count": 17,
   "id": "d9d100a3",
   "metadata": {},
   "outputs": [
    {
     "name": "stdout",
     "output_type": "stream",
     "text": [
      "189/189 [==============================] - 5s 22ms/step\n"
     ]
    }
   ],
   "source": [
    "predicted_stock_price = model.predict(X_test)\n",
    "predicted_stock_price = scaler.inverse_transform(predicted_stock_price)"
   ]
  },
  {
   "cell_type": "markdown",
   "id": "4a0fdc8b",
   "metadata": {},
   "source": [
    "##  Visualize the results"
   ]
  },
  {
   "cell_type": "code",
   "execution_count": 18,
   "id": "52f40a60",
   "metadata": {},
   "outputs": [
    {
     "data": {
      "image/png": "[encoded data removed]",
      "text/plain": [
       "<Figure size 640x480 with 1 Axes>"
      ]
     },
     "metadata": {},
     "output_type": "display_data"
    }
   ],
   "source": [
    "# Visualize the results\n",
    "plt.plot(test_data.index[60:], test_data['Close'][60:], label='Actual Stock Price')\n",
    "plt.plot(test_data.index[60:], predicted_stock_price, label='Predicted Stock Price')\n",
    "plt.title('Stock Price Prediction using LSTM')\n",
    "plt.xlabel('Date')\n",
    "plt.ylabel('Stock Price')\n",
    "plt.legend()\n",
    "plt.show()"
   ]
  },
  {
   "cell_type": "code",
   "execution_count": null,
   "id": "bb1ee54e",
   "metadata": {},
   "outputs": [],
   "source": []
  }
 ],
 "metadata": {
  "kernelspec": {
   "display_name": "Python 3 (ipykernel)",
   "language": "python",
   "name": "python3"
  },
  "language_info": {
   "codemirror_mode": {
    "name": "ipython",
    "version": 3
   },
   "file_extension": ".py",
   "mimetype": "text/x-python",
   "name": "python",
   "nbconvert_exporter": "python",
   "pygments_lexer": "ipython3",
   "version": "3.9.18"
  }
 },
 "nbformat": 4,
 "nbformat_minor": 5
}
